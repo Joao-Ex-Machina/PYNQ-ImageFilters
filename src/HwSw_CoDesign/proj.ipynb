{
  "cells": [
    {
      "cell_type": "markdown",
      "id": "1ee74131",
      "metadata": {
        "id": "1ee74131"
      },
      "source": [
        "<h2>Lab 4</h2>\n",
        "<br>\n",
        "In this lab you are going to develop a kernel in the FPGA to invert the colors of an image."
      ]
    },
    {
      "cell_type": "markdown",
      "id": "267ce565",
      "metadata": {
        "id": "267ce565"
      },
      "source": [
        "Load image."
      ]
    },
    {
      "cell_type": "code",
      "execution_count": 2,
      "id": "ab614ae0",
      "metadata": {
        "colab": {
          "base_uri": "https://localhost:8080/",
          "height": 341
        },
        "id": "ab614ae0",
        "outputId": "865d8c1c-69f1-4649-d74f-d10300863c03",
        "collapsed": true
      },
      "outputs": [
        {
          "output_type": "error",
          "ename": "FileNotFoundError",
          "evalue": "[Errno 2] No such file or directory: 'image0.jpg'",
          "traceback": [
            "\u001b[0;31m---------------------------------------------------------------------------\u001b[0m",
            "\u001b[0;31mFileNotFoundError\u001b[0m                         Traceback (most recent call last)",
            "\u001b[0;32m<ipython-input-2-4172536c8595>\u001b[0m in \u001b[0;36m<cell line: 0>\u001b[0;34m()\u001b[0m\n\u001b[1;32m      4\u001b[0m \u001b[0;34m\u001b[0m\u001b[0m\n\u001b[1;32m      5\u001b[0m \u001b[0;31m# load and display the image\u001b[0m\u001b[0;34m\u001b[0m\u001b[0;34m\u001b[0m\u001b[0m\n\u001b[0;32m----> 6\u001b[0;31m \u001b[0mimgOrig\u001b[0m \u001b[0;34m=\u001b[0m \u001b[0mPIL_Image\u001b[0m\u001b[0;34m.\u001b[0m\u001b[0mopen\u001b[0m\u001b[0;34m(\u001b[0m\u001b[0;34m\"image0.jpg\"\u001b[0m\u001b[0;34m)\u001b[0m\u001b[0;34m\u001b[0m\u001b[0;34m\u001b[0m\u001b[0m\n\u001b[0m\u001b[1;32m      7\u001b[0m \u001b[0mimgWidth\u001b[0m\u001b[0;34m,\u001b[0m \u001b[0mimgHeight\u001b[0m \u001b[0;34m=\u001b[0m \u001b[0mimgOrig\u001b[0m\u001b[0;34m.\u001b[0m\u001b[0msize\u001b[0m\u001b[0;34m\u001b[0m\u001b[0;34m\u001b[0m\u001b[0m\n\u001b[1;32m      8\u001b[0m \u001b[0mdisplay\u001b[0m\u001b[0;34m(\u001b[0m\u001b[0mimgOrig\u001b[0m\u001b[0;34m)\u001b[0m\u001b[0;34m\u001b[0m\u001b[0;34m\u001b[0m\u001b[0m\n",
            "\u001b[0;32m/usr/local/lib/python3.11/dist-packages/PIL/Image.py\u001b[0m in \u001b[0;36mopen\u001b[0;34m(fp, mode, formats)\u001b[0m\n\u001b[1;32m   3463\u001b[0m \u001b[0;34m\u001b[0m\u001b[0m\n\u001b[1;32m   3464\u001b[0m     \u001b[0;32mif\u001b[0m \u001b[0mfilename\u001b[0m\u001b[0;34m:\u001b[0m\u001b[0;34m\u001b[0m\u001b[0;34m\u001b[0m\u001b[0m\n\u001b[0;32m-> 3465\u001b[0;31m         \u001b[0mfp\u001b[0m \u001b[0;34m=\u001b[0m \u001b[0mbuiltins\u001b[0m\u001b[0;34m.\u001b[0m\u001b[0mopen\u001b[0m\u001b[0;34m(\u001b[0m\u001b[0mfilename\u001b[0m\u001b[0;34m,\u001b[0m \u001b[0;34m\"rb\"\u001b[0m\u001b[0;34m)\u001b[0m\u001b[0;34m\u001b[0m\u001b[0;34m\u001b[0m\u001b[0m\n\u001b[0m\u001b[1;32m   3466\u001b[0m         \u001b[0mexclusive_fp\u001b[0m \u001b[0;34m=\u001b[0m \u001b[0;32mTrue\u001b[0m\u001b[0;34m\u001b[0m\u001b[0;34m\u001b[0m\u001b[0m\n\u001b[1;32m   3467\u001b[0m     \u001b[0;32melse\u001b[0m\u001b[0;34m:\u001b[0m\u001b[0;34m\u001b[0m\u001b[0;34m\u001b[0m\u001b[0m\n",
            "\u001b[0;31mFileNotFoundError\u001b[0m: [Errno 2] No such file or directory: 'image0.jpg'"
          ]
        }
      ],
      "source": [
        "from PIL import Image as PIL_Image\n",
        "import numpy\n",
        "import time\n",
        "\n",
        "# load and display the image\n",
        "imgOrig = PIL_Image.open(\"image0.jpg\")\n",
        "imgWidth, imgHeight = imgOrig.size\n",
        "display(imgOrig)\n",
        "PADSIZE=8\n",
        "BLK_HEIGHT=128\n",
        "BLK_WIDTH=128\n",
        "# convert image to numpy array with dimensions imgHeight x imgWidth x 3\n",
        "imgArr = numpy.asarray(imgOrig)\n",
        "imgHeight, imgWidth, num_channels = imgArr.shape\n",
        "\n",
        "if imgHeight < BLK_HEIGHT or imgWidth < BLK_WIDTH: #pad for smaller images\n",
        "  pad_height = max(0, BLK_HEIGHT - imgHeight)\n",
        "  pad_width = max(0, BLK_WIDTH - imgWidth)\n",
        "\n",
        "  pad_top = pad_height // 2\n",
        "  pad_bottom = pad_height - pad_top\n",
        "  pad_left = pad_width // 2\n",
        "  pad_right = pad_width - pad_left\n",
        "\n",
        "  padding = ((pad_top, pad_bottom), (pad_left, pad_right), (0, 0)) if num_channels > 1 else ((pad_top, pad_bottom), (pad_left, pad_right))\n",
        "  imgArr = np.pad(imgArr, padding, mode='edge')\n",
        "\n",
        "paddedimgArr = np.pad(imgArr, ((PADSIZE, PADSIZE), (PADSIZE, PADSIZE), (0, 0)), mode='edge') #pad edges with nearest neighbour"
      ]
    },
    {
      "cell_type": "markdown",
      "id": "505ff7cf",
      "metadata": {
        "id": "505ff7cf"
      },
      "source": [
        "Compute the inverted image in software (Python)."
      ]
    },
    {
      "cell_type": "code",
      "execution_count": 1,
      "id": "e8614b25",
      "metadata": {
        "id": "e8614b25"
      },
      "outputs": [],
      "source": [
        "\n",
        "\n"
      ]
    },
    {
      "cell_type": "markdown",
      "id": "69f5130e",
      "metadata": {
        "id": "69f5130e"
      },
      "source": [
        "Compute the inverted image using the overlay."
      ]
    },
    {
      "cell_type": "code",
      "execution_count": null,
      "id": "0a32b562",
      "metadata": {
        "id": "0a32b562"
      },
      "outputs": [],
      "source": [
        "from pynq import Overlay\n",
        "from pynq.mmio import MMIO\n",
        "\n",
        "print('Inverting image using hardware acceleration ...')\n",
        "\n",
        "# load overlay\n",
        "overlay = Overlay('/home/xilinx/jupyter_notebooks/lab4/invert.bit')\n",
        "start_time = time.time()\n",
        "\n",
        "# address configuration\n",
        "ADDR_BASE_IN=0x40000000\n",
        "ADDR_RANGE_IN=0x4000\n",
        "ADDR_BASE_OUT=0x40004000\n",
        "ADDR_RANGE_OUT=0x4000\n",
        "\n",
        "# get MMIO handlers\n",
        "inMMIO = MMIO(ADDR_BASE_IN, ADDR_RANGE_IN)\n",
        "outMMIO = MMIO(ADDR_BASE_OUT, ADDR_RANGE_OUT)\n",
        "\n",
        "# view linear memory areas as 128x128 matrices\n",
        "# inMat and outMat are numpy.ndarray elements with dimensions 64x64\n",
        "BLK_UHEIGHT=BLK_HEIGHT-2*PADSIZE\n",
        "BLK_UWIDTH=BLK_WIDTH-2*PADSIZE\n",
        "\n",
        "inMat = numpy.reshape(inMMIO.array,(BLK_HEIGHT,BLK_WIDTH))\n",
        "outMat = numpy.reshape(outMMIO.array,(BLK_UHEIGHT,BLK_UWIDTH))\n",
        "imgArrAccel=numpy.full([imgHeight, imgWidth, 3], dtype=numpy.uint8, fill_value=0x00)\n",
        "\n",
        "# run BLK_HEIGHT x BLK_WIDTH slices of the image through the accelerator\n",
        "# the slices only shift BLK_UHEIGHT x BLK_UWIDTH\n",
        "for offsetRow in range(0,imgHeight,BLK_UHEIGHT):\n",
        "    if offsetRow + BLK_HEIGHT > imgHeight:\n",
        "        offsetRow = imgHeight - BLK_HEIGHT\n",
        "    for offsetCol in range(0,imgWidth,BLK_UWIDTH):\n",
        "        if offsetCol + BLK_WIDTH > imgWidth:\n",
        "            offsetCol = imgWidth - BLK_WIDTH\n",
        "        # write the BLK_HEIGHT x BLK_WIDTH slice to inMat\n",
        "        for row in range(0,BLK_HEIGHT,1):\n",
        "            for col in range(0,BLK_WIDTH,1):\n",
        "                i = offsetRow + row\n",
        "                j = offsetCol + col\n",
        "                inMat[row,col] = (imgArr[i,j,0] << 16) | (imgArr[i,j,1] << 8) | imgArr[i,j,2]\n",
        "        # start the hardware kernel and wait for it to complete\n",
        "        overlay.invert_0.register_map.CTRL.AP_START=1\n",
        "        while overlay.invert_0.register_map.CTRL.AP_DONE == 0:\n",
        "            pass\n",
        "        # read the BLK_UHEIGHT x BLK_UWIDTH slice from outMat\n",
        "        for row in range(0,BLK_UHEIGHT,1):\n",
        "            for col in range(0,BLK_UWIDTH,1):\n",
        "                i = offsetRow + row\n",
        "                j = offsetCol + col\n",
        "                imgArrAccel[i,j] = [ 0xff & (outMat[row,col] >> 16), 0xff & (outMat[row,col] >> 8), 0xff & outMat[row,col] ]\n",
        "\n",
        "imgAccel = PIL_Image.fromarray(imgArrAccel)\n",
        "end_time = time.time()\n",
        "execution_time = end_time - start_time\n",
        "print(f'Done. Run time: {execution_time}s.')\n",
        "display(imgAccel)"
      ]
    }
  ],
  "metadata": {
    "kernelspec": {
      "display_name": "Python 3 (ipykernel)",
      "language": "python",
      "name": "python3"
    },
    "language_info": {
      "codemirror_mode": {
        "name": "ipython",
        "version": 3
      },
      "file_extension": ".py",
      "mimetype": "text/x-python",
      "name": "python",
      "nbconvert_exporter": "python",
      "pygments_lexer": "ipython3",
      "version": "3.10.4"
    },
    "colab": {
      "provenance": []
    }
  },
  "nbformat": 4,
  "nbformat_minor": 5
}